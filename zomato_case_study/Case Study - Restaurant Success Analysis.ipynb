{
 "cells": [
  {
   "cell_type": "code",
   "execution_count": 1,
   "id": "c4d6245a-5d37-4e33-bc74-ed203c23c6f1",
   "metadata": {},
   "outputs": [],
   "source": [
    "import numpy as np\n",
    "import pandas as pd\n",
    "import matplotlib.pyplot as plt\n",
    "import seaborn as sns"
   ]
  },
  {
   "cell_type": "code",
   "execution_count": 3,
   "id": "ff5118a7-9a1f-40b2-a208-7903398e772b",
   "metadata": {},
   "outputs": [],
   "source": [
    "zomato_df = pd.read_csv(\"./zomato_restaurants.csv\")"
   ]
  },
  {
   "cell_type": "code",
   "execution_count": 4,
   "id": "f4bb1f6f-5b89-44f6-98f5-cfb196db0929",
   "metadata": {},
   "outputs": [
    {
     "data": {
      "text/html": [
       "<div>\n",
       "<style scoped>\n",
       "    .dataframe tbody tr th:only-of-type {\n",
       "        vertical-align: middle;\n",
       "    }\n",
       "\n",
       "    .dataframe tbody tr th {\n",
       "        vertical-align: top;\n",
       "    }\n",
       "\n",
       "    .dataframe thead th {\n",
       "        text-align: right;\n",
       "    }\n",
       "</style>\n",
       "<table border=\"1\" class=\"dataframe\">\n",
       "  <thead>\n",
       "    <tr style=\"text-align: right;\">\n",
       "      <th></th>\n",
       "      <th>url</th>\n",
       "      <th>address</th>\n",
       "      <th>name</th>\n",
       "      <th>online_order</th>\n",
       "      <th>book_table</th>\n",
       "      <th>rate</th>\n",
       "      <th>votes</th>\n",
       "      <th>phone</th>\n",
       "      <th>location</th>\n",
       "      <th>rest_type</th>\n",
       "      <th>dish_liked</th>\n",
       "      <th>cuisines</th>\n",
       "      <th>approx_cost(for two people)</th>\n",
       "      <th>reviews_list</th>\n",
       "      <th>menu_item</th>\n",
       "      <th>listed_in(type)</th>\n",
       "      <th>listed_in(city)</th>\n",
       "    </tr>\n",
       "  </thead>\n",
       "  <tbody>\n",
       "    <tr>\n",
       "      <th>0</th>\n",
       "      <td>https://www.zomato.com/bangalore/jalsa-banasha...</td>\n",
       "      <td>942, 21st Main Road, 2nd Stage, Banashankari, ...</td>\n",
       "      <td>Jalsa</td>\n",
       "      <td>Yes</td>\n",
       "      <td>Yes</td>\n",
       "      <td>4.1/5</td>\n",
       "      <td>775</td>\n",
       "      <td>080 42297555\\r\\n+91 9743772233</td>\n",
       "      <td>Banashankari</td>\n",
       "      <td>Casual Dining</td>\n",
       "      <td>Pasta, Lunch Buffet, Masala Papad, Paneer Laja...</td>\n",
       "      <td>North Indian, Mughlai, Chinese</td>\n",
       "      <td>800</td>\n",
       "      <td>[('Rated 4.0', 'RATED\\n  A beautiful place to ...</td>\n",
       "      <td>[]</td>\n",
       "      <td>Buffet</td>\n",
       "      <td>Banashankari</td>\n",
       "    </tr>\n",
       "    <tr>\n",
       "      <th>1</th>\n",
       "      <td>https://www.zomato.com/bangalore/spice-elephan...</td>\n",
       "      <td>2nd Floor, 80 Feet Road, Near Big Bazaar, 6th ...</td>\n",
       "      <td>Spice Elephant</td>\n",
       "      <td>Yes</td>\n",
       "      <td>No</td>\n",
       "      <td>4.1/5</td>\n",
       "      <td>787</td>\n",
       "      <td>080 41714161</td>\n",
       "      <td>Banashankari</td>\n",
       "      <td>Casual Dining</td>\n",
       "      <td>Momos, Lunch Buffet, Chocolate Nirvana, Thai G...</td>\n",
       "      <td>Chinese, North Indian, Thai</td>\n",
       "      <td>800</td>\n",
       "      <td>[('Rated 4.0', 'RATED\\n  Had been here for din...</td>\n",
       "      <td>[]</td>\n",
       "      <td>Buffet</td>\n",
       "      <td>Banashankari</td>\n",
       "    </tr>\n",
       "    <tr>\n",
       "      <th>2</th>\n",
       "      <td>https://www.zomato.com/SanchurroBangalore?cont...</td>\n",
       "      <td>1112, Next to KIMS Medical College, 17th Cross...</td>\n",
       "      <td>San Churro Cafe</td>\n",
       "      <td>Yes</td>\n",
       "      <td>No</td>\n",
       "      <td>3.8/5</td>\n",
       "      <td>918</td>\n",
       "      <td>+91 9663487993</td>\n",
       "      <td>Banashankari</td>\n",
       "      <td>Cafe, Casual Dining</td>\n",
       "      <td>Churros, Cannelloni, Minestrone Soup, Hot Choc...</td>\n",
       "      <td>Cafe, Mexican, Italian</td>\n",
       "      <td>800</td>\n",
       "      <td>[('Rated 3.0', \"RATED\\n  Ambience is not that ...</td>\n",
       "      <td>[]</td>\n",
       "      <td>Buffet</td>\n",
       "      <td>Banashankari</td>\n",
       "    </tr>\n",
       "    <tr>\n",
       "      <th>3</th>\n",
       "      <td>https://www.zomato.com/bangalore/addhuri-udupi...</td>\n",
       "      <td>1st Floor, Annakuteera, 3rd Stage, Banashankar...</td>\n",
       "      <td>Addhuri Udupi Bhojana</td>\n",
       "      <td>No</td>\n",
       "      <td>No</td>\n",
       "      <td>3.7/5</td>\n",
       "      <td>88</td>\n",
       "      <td>+91 9620009302</td>\n",
       "      <td>Banashankari</td>\n",
       "      <td>Quick Bites</td>\n",
       "      <td>Masala Dosa</td>\n",
       "      <td>South Indian, North Indian</td>\n",
       "      <td>300</td>\n",
       "      <td>[('Rated 4.0', \"RATED\\n  Great food and proper...</td>\n",
       "      <td>[]</td>\n",
       "      <td>Buffet</td>\n",
       "      <td>Banashankari</td>\n",
       "    </tr>\n",
       "    <tr>\n",
       "      <th>4</th>\n",
       "      <td>https://www.zomato.com/bangalore/grand-village...</td>\n",
       "      <td>10, 3rd Floor, Lakshmi Associates, Gandhi Baza...</td>\n",
       "      <td>Grand Village</td>\n",
       "      <td>No</td>\n",
       "      <td>No</td>\n",
       "      <td>3.8/5</td>\n",
       "      <td>166</td>\n",
       "      <td>+91 8026612447\\r\\n+91 9901210005</td>\n",
       "      <td>Basavanagudi</td>\n",
       "      <td>Casual Dining</td>\n",
       "      <td>Panipuri, Gol Gappe</td>\n",
       "      <td>North Indian, Rajasthani</td>\n",
       "      <td>600</td>\n",
       "      <td>[('Rated 4.0', 'RATED\\n  Very good restaurant ...</td>\n",
       "      <td>[]</td>\n",
       "      <td>Buffet</td>\n",
       "      <td>Banashankari</td>\n",
       "    </tr>\n",
       "  </tbody>\n",
       "</table>\n",
       "</div>"
      ],
      "text/plain": [
       "                                                 url  \\\n",
       "0  https://www.zomato.com/bangalore/jalsa-banasha...   \n",
       "1  https://www.zomato.com/bangalore/spice-elephan...   \n",
       "2  https://www.zomato.com/SanchurroBangalore?cont...   \n",
       "3  https://www.zomato.com/bangalore/addhuri-udupi...   \n",
       "4  https://www.zomato.com/bangalore/grand-village...   \n",
       "\n",
       "                                             address                   name  \\\n",
       "0  942, 21st Main Road, 2nd Stage, Banashankari, ...                  Jalsa   \n",
       "1  2nd Floor, 80 Feet Road, Near Big Bazaar, 6th ...         Spice Elephant   \n",
       "2  1112, Next to KIMS Medical College, 17th Cross...        San Churro Cafe   \n",
       "3  1st Floor, Annakuteera, 3rd Stage, Banashankar...  Addhuri Udupi Bhojana   \n",
       "4  10, 3rd Floor, Lakshmi Associates, Gandhi Baza...          Grand Village   \n",
       "\n",
       "  online_order book_table   rate  votes                             phone  \\\n",
       "0          Yes        Yes  4.1/5    775    080 42297555\\r\\n+91 9743772233   \n",
       "1          Yes         No  4.1/5    787                      080 41714161   \n",
       "2          Yes         No  3.8/5    918                    +91 9663487993   \n",
       "3           No         No  3.7/5     88                    +91 9620009302   \n",
       "4           No         No  3.8/5    166  +91 8026612447\\r\\n+91 9901210005   \n",
       "\n",
       "       location            rest_type  \\\n",
       "0  Banashankari        Casual Dining   \n",
       "1  Banashankari        Casual Dining   \n",
       "2  Banashankari  Cafe, Casual Dining   \n",
       "3  Banashankari          Quick Bites   \n",
       "4  Basavanagudi        Casual Dining   \n",
       "\n",
       "                                          dish_liked  \\\n",
       "0  Pasta, Lunch Buffet, Masala Papad, Paneer Laja...   \n",
       "1  Momos, Lunch Buffet, Chocolate Nirvana, Thai G...   \n",
       "2  Churros, Cannelloni, Minestrone Soup, Hot Choc...   \n",
       "3                                        Masala Dosa   \n",
       "4                                Panipuri, Gol Gappe   \n",
       "\n",
       "                         cuisines approx_cost(for two people)  \\\n",
       "0  North Indian, Mughlai, Chinese                         800   \n",
       "1     Chinese, North Indian, Thai                         800   \n",
       "2          Cafe, Mexican, Italian                         800   \n",
       "3      South Indian, North Indian                         300   \n",
       "4        North Indian, Rajasthani                         600   \n",
       "\n",
       "                                        reviews_list menu_item  \\\n",
       "0  [('Rated 4.0', 'RATED\\n  A beautiful place to ...        []   \n",
       "1  [('Rated 4.0', 'RATED\\n  Had been here for din...        []   \n",
       "2  [('Rated 3.0', \"RATED\\n  Ambience is not that ...        []   \n",
       "3  [('Rated 4.0', \"RATED\\n  Great food and proper...        []   \n",
       "4  [('Rated 4.0', 'RATED\\n  Very good restaurant ...        []   \n",
       "\n",
       "  listed_in(type) listed_in(city)  \n",
       "0          Buffet    Banashankari  \n",
       "1          Buffet    Banashankari  \n",
       "2          Buffet    Banashankari  \n",
       "3          Buffet    Banashankari  \n",
       "4          Buffet    Banashankari  "
      ]
     },
     "execution_count": 4,
     "metadata": {},
     "output_type": "execute_result"
    }
   ],
   "source": [
    "zomato_df.head()"
   ]
  },
  {
   "cell_type": "code",
   "execution_count": null,
   "id": "b6832eeb-2364-4659-aa21-1aa0d47791ce",
   "metadata": {},
   "outputs": [],
   "source": [
    "zomato_df.shape"
   ]
  },
  {
   "cell_type": "code",
   "execution_count": null,
   "id": "a58159a6-da38-482d-9887-da5f62ddc919",
   "metadata": {},
   "outputs": [],
   "source": [
    "zomato_df.info()"
   ]
  },
  {
   "cell_type": "markdown",
   "id": "3f6b942d-8600-4c4f-ba78-c50881b94eab",
   "metadata": {},
   "source": [
    "#### 1. Total Number of Restaurants"
   ]
  },
  {
   "cell_type": "code",
   "execution_count": null,
   "id": "48c4b0c0-6535-451f-b882-fd7b23477171",
   "metadata": {},
   "outputs": [],
   "source": [
    "len(zomato_df['name'].unique())"
   ]
  },
  {
   "cell_type": "markdown",
   "id": "2660554a-f93b-42ea-87a1-607a0dbb811b",
   "metadata": {},
   "source": [
    "#### 2. Restaurant with Online Order Option."
   ]
  },
  {
   "cell_type": "code",
   "execution_count": null,
   "id": "07c4784b-4d20-4096-a436-178805900555",
   "metadata": {},
   "outputs": [],
   "source": [
    "zomato_df['online_order'].value_counts() / zomato_df.shape[0] * 100"
   ]
  },
  {
   "cell_type": "code",
   "execution_count": null,
   "id": "bbdeeebe-0260-4fa2-872d-10be9e55bebe",
   "metadata": {},
   "outputs": [],
   "source": [
    "zomato_df['online_order'].unique()"
   ]
  },
  {
   "cell_type": "code",
   "execution_count": null,
   "id": "2f85dfc6-e5de-4a9e-829a-e839ab71aa4c",
   "metadata": {},
   "outputs": [],
   "source": [
    "plt.figure(figsize = (7,7))\n",
    "plt.pie(zomato_df['online_order'].value_counts(), labels = zomato_df['online_order'].unique(),\n",
    "       autopct = '%0.2f%%', colors = ['red','mistyrose'])\n",
    "plt.show()"
   ]
  },
  {
   "cell_type": "markdown",
   "id": "41d97bc2-9679-430b-822a-cf5b33a13b8b",
   "metadata": {},
   "source": [
    "#### 3. Restaurant with Online Book Table Option."
   ]
  },
  {
   "cell_type": "code",
   "execution_count": null,
   "id": "6c28744f-1d4e-4797-9371-46ecd0c4a9e1",
   "metadata": {},
   "outputs": [],
   "source": [
    "zomato_df['book_table'].value_counts() / zomato_df.shape[0] * 100"
   ]
  },
  {
   "cell_type": "code",
   "execution_count": null,
   "id": "e958ad57-4be2-497f-917b-44b69f9c634c",
   "metadata": {},
   "outputs": [],
   "source": [
    "plt.figure(figsize = (7,7))\n",
    "plt.pie(zomato_df['book_table'].value_counts(), labels = zomato_df['online_order'].unique(),\n",
    "       autopct = '%0.2f%%', colors = ['red','mistyrose'])\n",
    "plt.show()"
   ]
  },
  {
   "cell_type": "markdown",
   "id": "46450b1a-4e4a-40f7-8206-2949a3efadbe",
   "metadata": {},
   "source": [
    "#### 4. Famous Chains in Bengaluru"
   ]
  },
  {
   "cell_type": "code",
   "execution_count": null,
   "id": "8a4d75f1-123f-48a4-84dc-b6e82d68ca7c",
   "metadata": {},
   "outputs": [],
   "source": [
    "zomato_df['name'].value_counts().sort_values(ascending=False)[:21]"
   ]
  },
  {
   "cell_type": "code",
   "execution_count": null,
   "id": "61986f22-7581-4bb6-a59b-8e2f9b388ae8",
   "metadata": {},
   "outputs": [],
   "source": [
    "names = zomato_df['name'].value_counts().sort_values(ascending=False)[:21].index"
   ]
  },
  {
   "cell_type": "code",
   "execution_count": null,
   "id": "fe6674c1-6d55-4654-ae87-bacd31421cd7",
   "metadata": {},
   "outputs": [],
   "source": [
    "restaurant_count = zomato_df['name'].value_counts().sort_values(ascending=False)[:21].values"
   ]
  },
  {
   "cell_type": "code",
   "execution_count": null,
   "id": "70fd1149-8535-4017-a5eb-b44dd2c822dd",
   "metadata": {},
   "outputs": [],
   "source": [
    "plt.figure(figsize = (14,8))\n",
    "sns.set_style('whitegrid')\n",
    "sns.barplot(x = restaurant_count, y = names, orient='h', hue = names, palette='Set1')"
   ]
  },
  {
   "cell_type": "markdown",
   "id": "db556de8-9666-4a55-8ce6-87aaee593797",
   "metadata": {},
   "source": [
    "#### 5. Find Most Popular Restaurant Type in Bengaluru."
   ]
  },
  {
   "cell_type": "code",
   "execution_count": null,
   "id": "4f82a7a7-5ce4-47a3-a04d-e8a5ab50167f",
   "metadata": {},
   "outputs": [],
   "source": [
    "zomato_df['rest_type'].value_counts().sort_values(ascending=False)[:21]"
   ]
  },
  {
   "cell_type": "code",
   "execution_count": null,
   "id": "31207d40-0fce-4ce3-a948-17a30d916ec1",
   "metadata": {},
   "outputs": [],
   "source": [
    "rest_type = zomato_df['rest_type'].value_counts().sort_values(ascending=False)[:21].index"
   ]
  },
  {
   "cell_type": "code",
   "execution_count": null,
   "id": "ab9017e5-0e40-4f3b-b384-569a01827545",
   "metadata": {},
   "outputs": [],
   "source": [
    "rest_type_count = zomato_df['rest_type'].value_counts().sort_values(ascending=False)[:21].values"
   ]
  },
  {
   "cell_type": "code",
   "execution_count": null,
   "id": "ae5b045d-7c36-4b46-90af-8792e21c0945",
   "metadata": {},
   "outputs": [],
   "source": [
    "plt.figure(figsize = (14,8))\n",
    "sns.set_style('whitegrid')\n",
    "sns.barplot(x = rest_type_count, y = rest_type, orient='h', hue = rest_type, palette='Set1')"
   ]
  },
  {
   "cell_type": "markdown",
   "id": "4c1da9da-2c3b-4344-a02c-30cfe108d1d7",
   "metadata": {},
   "source": [
    "* Most popular restaurant type in Bengaluru is Quick Bytes. "
   ]
  },
  {
   "cell_type": "markdown",
   "id": "7cdd9905-4905-43c6-bdb0-3ef37a7cff10",
   "metadata": {},
   "source": [
    "#### 6. Distribution of Restaurant Cost (For 2 Person)."
   ]
  },
  {
   "cell_type": "code",
   "execution_count": null,
   "id": "c1b209b2-483b-4302-b065-fb8dc69eb23f",
   "metadata": {},
   "outputs": [],
   "source": [
    "zomato_df['approx_cost(for two people)'].unique()"
   ]
  },
  {
   "cell_type": "code",
   "execution_count": null,
   "id": "b5572681-3b7b-424d-a92e-5d259966162c",
   "metadata": {},
   "outputs": [],
   "source": [
    "zomato_df['approx_cost(for two people)'] = zomato_df['approx_cost(for two people)'].str.replace(',','').astype('float64')"
   ]
  },
  {
   "cell_type": "markdown",
   "id": "ea47a6e6-6bf3-4282-81a4-a16b5dc1eb80",
   "metadata": {},
   "source": [
    "#### Check if it is skewed? "
   ]
  },
  {
   "cell_type": "code",
   "execution_count": null,
   "id": "f62a8cf2-7172-485f-8e1e-1992b2fe364b",
   "metadata": {},
   "outputs": [],
   "source": [
    "import warnings\n",
    "warnings.filterwarnings('ignore')\n",
    "plt.figure(figsize = (10,7))\n",
    "sns.distplot(zomato_df['approx_cost(for two people)'], color = 'red')"
   ]
  },
  {
   "cell_type": "code",
   "execution_count": null,
   "id": "c7af66d3-f6b4-449c-a267-6be80d2c1295",
   "metadata": {},
   "outputs": [],
   "source": [
    "plt.figure(figsize = (10,4))\n",
    "sns.boxplot(zomato_df['approx_cost(for two people)'], color = 'red', orient='h')"
   ]
  },
  {
   "cell_type": "code",
   "execution_count": null,
   "id": "9dbb38fe-8cdd-4518-9567-2017339a5fc8",
   "metadata": {},
   "outputs": [],
   "source": [
    "zomato_df['approx_cost(for two people)'].median()"
   ]
  },
  {
   "cell_type": "code",
   "execution_count": null,
   "id": "fd8f9d27-0260-493a-875c-f21da43f3cb7",
   "metadata": {},
   "outputs": [],
   "source": [
    "Q1 = zomato_df['approx_cost(for two people)'].quantile(0.25)\n",
    "Q2 = zomato_df['approx_cost(for two people)'].quantile(0.5)\n",
    "Q3 = zomato_df['approx_cost(for two people)'].quantile(0.75)\n",
    "print(\"First Quartile: \", Q1, \"\\nMedian: \", Q2, \"\\nThird Quartile: \", Q3)"
   ]
  },
  {
   "cell_type": "code",
   "execution_count": null,
   "id": "218640fc-1c16-4540-b77a-c4ef50d7a966",
   "metadata": {},
   "outputs": [],
   "source": [
    "IQR = Q3 - Q1\n",
    "print(\"Inter-Quartile Range of Cost for two people: \", IQR)"
   ]
  },
  {
   "cell_type": "markdown",
   "id": "a47b4b59-158e-4867-a4ae-ce0ccec6c4ef",
   "metadata": {},
   "source": [
    "* Approx cost of two people range from Rs. 300 to Rs. 650, with meadian cost approx to Rs. 400. Yes the approx cost for two person is skewed towards positive. Hence, Positive Skewness."
   ]
  },
  {
   "cell_type": "markdown",
   "id": "53908d9a-1587-4b58-a033-adb9b0479965",
   "metadata": {},
   "source": [
    "#### 7. Find Least Popular Restaurant Type in Bengaluru."
   ]
  },
  {
   "cell_type": "code",
   "execution_count": null,
   "id": "2871da40-7148-49aa-a271-5cceec10789c",
   "metadata": {},
   "outputs": [],
   "source": [
    "zomato_df['rest_type'].value_counts().sort_values(ascending=True)[:20]\n",
    "least_rest_type = zomato_df['rest_type'].value_counts().sort_values(ascending=True)[:20].index\n",
    "least_rest_count = zomato_df['rest_type'].value_counts().sort_values(ascending=True)[:20].values"
   ]
  },
  {
   "cell_type": "code",
   "execution_count": null,
   "id": "e96e2673-34ea-47b8-861d-d5096ea0c312",
   "metadata": {},
   "outputs": [],
   "source": [
    "plt.figure(figsize = (14,8))\n",
    "sns.set_style('whitegrid')\n",
    "sns.barplot(x = least_rest_count, y = least_rest_type, orient='h', hue = least_rest_type, \n",
    "            palette='Set1')"
   ]
  },
  {
   "cell_type": "markdown",
   "id": "0c321d81-8e97-4c97-9222-4cf39993e2a3",
   "metadata": {},
   "source": [
    "#### 8. Which are the Top 20 Locations with Most Number of Restaurants.\n"
   ]
  },
  {
   "cell_type": "code",
   "execution_count": null,
   "id": "25576c51-76af-4de9-9162-0e1ce9e3e68c",
   "metadata": {},
   "outputs": [],
   "source": [
    "city = zomato_df['listed_in(city)'].value_counts().sort_values(ascending=False)[:20].index\n",
    "city_count = zomato_df['listed_in(city)'].value_counts().sort_values(ascending=False)[:20].values"
   ]
  },
  {
   "cell_type": "code",
   "execution_count": null,
   "id": "11d325b8-288f-40d2-bc0f-f844ada55a77",
   "metadata": {},
   "outputs": [],
   "source": [
    "plt.figure(figsize = (14,8))\n",
    "sns.set_style('whitegrid')\n",
    "sns.barplot(x = city_count, y = city, orient='h', hue = city, palette='Set1')"
   ]
  },
  {
   "cell_type": "markdown",
   "id": "8593848e-239a-4a4a-b7d2-7893e469aca6",
   "metadata": {},
   "source": [
    "* Most Popular Places in Bengaluru with most number of restaurant are - BTM Layout, Koramangala, Jayanagar. "
   ]
  },
  {
   "cell_type": "markdown",
   "id": "bbe02086-62e7-40e3-9d1a-946870599482",
   "metadata": {},
   "source": [
    "#### 9. Most Popular Restaurant's Category"
   ]
  },
  {
   "cell_type": "code",
   "execution_count": null,
   "id": "133411a6-54b6-4618-b94d-2abfc7dae82e",
   "metadata": {},
   "outputs": [],
   "source": [
    "zomato_df['cuisines'].value_counts() "
   ]
  },
  {
   "cell_type": "code",
   "execution_count": null,
   "id": "a99d4bac-8f88-4fd8-bfa5-e56bc9f05027",
   "metadata": {},
   "outputs": [],
   "source": [
    "cuisines = zomato_df['cuisines'].value_counts().sort_values(ascending=False)[:20].index\n",
    "restaurant_count = zomato_df['cuisines'].value_counts().sort_values(ascending=False)[:20].values"
   ]
  },
  {
   "cell_type": "code",
   "execution_count": null,
   "id": "0620c33f-26c4-4cae-8169-b2bc78975e6b",
   "metadata": {},
   "outputs": [],
   "source": [
    "plt.figure(figsize = (14,8))\n",
    "sns.set_style('whitegrid')\n",
    "sns.barplot(x = restaurant_count, y = cuisines, orient='h', hue = cuisines, palette='Set1')"
   ]
  },
  {
   "cell_type": "markdown",
   "id": "290f1160-2e34-4043-9dec-d68598cff5da",
   "metadata": {},
   "source": [
    "* Most popular Restaurant Category in Bengaluru are - North Indian, South Indian, Chinese, Biryani Outlets."
   ]
  },
  {
   "cell_type": "markdown",
   "id": "80698b61-ee6d-4794-a9ae-02fc258f6a0e",
   "metadata": {},
   "source": [
    "#### 10. Distribution of Restaurant Ratings."
   ]
  },
  {
   "cell_type": "code",
   "execution_count": null,
   "id": "6f2a2ccd-a984-430f-b740-1645c42ef9c8",
   "metadata": {},
   "outputs": [],
   "source": [
    "zomato_df['rate'] = zomato_df['rate'].str.replace('/5', '').replace('-',np.nan).replace('NEW',np.nan).astype('float64')"
   ]
  },
  {
   "cell_type": "code",
   "execution_count": null,
   "id": "cff20b9f-ce03-4698-b6a4-2f344e30329a",
   "metadata": {},
   "outputs": [],
   "source": [
    "plt.figure(figsize = (14,8))\n",
    "sns.set_style('whitegrid')\n",
    "sns.distplot(zomato_df['rate'], color = 'red')\n",
    "plt.show() "
   ]
  },
  {
   "cell_type": "markdown",
   "id": "0211cfb4-77eb-4696-bca1-dd5f8bab9b23",
   "metadata": {},
   "source": [
    "#### 11. Top Rated Restaurant From Most Popular Restaurant Types."
   ]
  },
  {
   "cell_type": "code",
   "execution_count": null,
   "id": "7e78d118-f1f7-46ff-b79f-26d432ba8ee4",
   "metadata": {},
   "outputs": [],
   "source": [
    "top_rest_types = zomato_df['rest_type'].value_counts().sort_values(ascending=False)[:21].index"
   ]
  },
  {
   "cell_type": "code",
   "execution_count": null,
   "id": "2b0f80ed-06e5-4a51-a1a5-e4d0f089e019",
   "metadata": {},
   "outputs": [],
   "source": [
    "zomato_df.groupby('rest_type')[['name','rate']].max().filter(items = top_rest_types, axis = 0)"
   ]
  },
  {
   "cell_type": "markdown",
   "id": "188e2ea2-15dd-483d-9a8a-68c3d098eb49",
   "metadata": {},
   "source": [
    "#### 12. Relationship Between Rating and Approx Cost (For Two Person)"
   ]
  },
  {
   "cell_type": "code",
   "execution_count": null,
   "id": "138eba4c-d321-4f17-ae0a-589ae87a642b",
   "metadata": {},
   "outputs": [],
   "source": [
    "plt.figure(figsize = (14,11))\n",
    "sns.scatterplot(x = 'rate', y = 'approx_cost(for two people)', data=zomato_df, hue='listed_in(type)',\n",
    "               palette='Set1')"
   ]
  },
  {
   "cell_type": "markdown",
   "id": "f8432af1-33cb-4f27-a73e-be915c32db7e",
   "metadata": {},
   "source": [
    "#### 13. Highlight the Resturant Frequency on Map."
   ]
  },
  {
   "cell_type": "code",
   "execution_count": null,
   "id": "313af2c3-ab06-4aeb-b985-0b4af2c7e123",
   "metadata": {},
   "outputs": [],
   "source": [
    "!pip install geopy"
   ]
  },
  {
   "cell_type": "code",
   "execution_count": null,
   "id": "0abb9a11-8aa5-4015-9c2d-d11f71201c21",
   "metadata": {},
   "outputs": [],
   "source": [
    "!pip install folium"
   ]
  },
  {
   "cell_type": "code",
   "execution_count": null,
   "id": "25f3005b-8532-4bec-a268-d83cf6630667",
   "metadata": {},
   "outputs": [],
   "source": [
    "from geopy.geocoders import Nominatim\n",
    "import pandas as pd\n",
    "locations = pd.DataFrame({\"Name\":zomato_df['location'].unique()})\n",
    "locations['Name'] = locations['Name'].apply(lambda x : \"Bangalore \" + str(x))\n",
    "geolocator = Nominatim(user_agent=\"app\")\n",
    "\n",
    "lat_long = []\n",
    "for location in locations['Name']:\n",
    "    location = geolocator.geocode(location)\n",
    "    if location is None:\n",
    "        lat_long.append(np.nan)\n",
    "    else:\n",
    "        geo = (location.latitude, location.longitude)\n",
    "        lat_long.append(geo)"
   ]
  },
  {
   "cell_type": "code",
   "execution_count": null,
   "id": "6efb0b8a-e230-4ed6-bdab-355e45dd5eca",
   "metadata": {},
   "outputs": [],
   "source": [
    "locations['geo_loc'] = lat_long\n",
    "locations.head()"
   ]
  },
  {
   "cell_type": "code",
   "execution_count": 4,
   "id": "d3ab9c5e-2f36-43bc-8c6c-cd6878954c4a",
   "metadata": {},
   "outputs": [
    {
     "ename": "NameError",
     "evalue": "name 'locations' is not defined",
     "output_type": "error",
     "traceback": [
      "\u001b[1;31m---------------------------------------------------------------------------\u001b[0m",
      "\u001b[1;31mNameError\u001b[0m                                 Traceback (most recent call last)",
      "Cell \u001b[1;32mIn[4], line 1\u001b[0m\n\u001b[1;32m----> 1\u001b[0m locations\u001b[38;5;241m.\u001b[39mto_csv(\u001b[38;5;124m\"\u001b[39m\u001b[38;5;124mlocations.csv\u001b[39m\u001b[38;5;124m\"\u001b[39m)\n",
      "\u001b[1;31mNameError\u001b[0m: name 'locations' is not defined"
     ]
    }
   ],
   "source": [
    "locations.to_csv(\"C:/Users/Administrator/Downloads/locations.csv\")\n"
   ]
  },
  {
   "cell_type": "code",
   "execution_count": null,
   "id": "26e9f24e-c1be-4040-b5d1-a3322eab5bd2",
   "metadata": {},
   "outputs": [],
   "source": []
  }
 ],
 "metadata": {
  "kernelspec": {
   "display_name": "Python 3 (ipykernel)",
   "language": "python",
   "name": "python3"
  },
  "language_info": {
   "codemirror_mode": {
    "name": "ipython",
    "version": 3
   },
   "file_extension": ".py",
   "mimetype": "text/x-python",
   "name": "python",
   "nbconvert_exporter": "python",
   "pygments_lexer": "ipython3",
   "version": "3.12.4"
  }
 },
 "nbformat": 4,
 "nbformat_minor": 5
}
